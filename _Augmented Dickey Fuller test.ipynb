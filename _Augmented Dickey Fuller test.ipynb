{
 "cells": [
  {
   "cell_type": "markdown",
   "id": "8f1d50d7",
   "metadata": {},
   "source": [
    "# Augmented Dickey Fuller test"
   ]
  },
  {
   "cell_type": "code",
   "execution_count": 1,
   "id": "92377f8a",
   "metadata": {},
   "outputs": [],
   "source": [
    "# necessary imports\n",
    "import pandas as pd\n",
    "import numpy as np\n",
    "import matplotlib.pyplot as plt\n",
    "import statsmodels.api as sm\n",
    "from statsmodels.tsa.stattools import adfuller\n",
    "%matplotlib inline"
   ]
  },
  {
   "cell_type": "code",
   "execution_count": 3,
   "id": "498e61a6",
   "metadata": {},
   "outputs": [
    {
     "data": {
      "text/html": [
       "<div>\n",
       "<style scoped>\n",
       "    .dataframe tbody tr th:only-of-type {\n",
       "        vertical-align: middle;\n",
       "    }\n",
       "\n",
       "    .dataframe tbody tr th {\n",
       "        vertical-align: top;\n",
       "    }\n",
       "\n",
       "    .dataframe thead th {\n",
       "        text-align: right;\n",
       "    }\n",
       "</style>\n",
       "<table border=\"1\" class=\"dataframe\">\n",
       "  <thead>\n",
       "    <tr style=\"text-align: right;\">\n",
       "      <th></th>\n",
       "      <th>Time</th>\n",
       "      <th>Value</th>\n",
       "    </tr>\n",
       "  </thead>\n",
       "  <tbody>\n",
       "    <tr>\n",
       "      <th>0</th>\n",
       "      <td>1</td>\n",
       "      <td>0.000000</td>\n",
       "    </tr>\n",
       "    <tr>\n",
       "      <th>1</th>\n",
       "      <td>2</td>\n",
       "      <td>-0.090263</td>\n",
       "    </tr>\n",
       "    <tr>\n",
       "      <th>2</th>\n",
       "      <td>3</td>\n",
       "      <td>0.749995</td>\n",
       "    </tr>\n",
       "    <tr>\n",
       "      <th>3</th>\n",
       "      <td>4</td>\n",
       "      <td>1.247887</td>\n",
       "    </tr>\n",
       "    <tr>\n",
       "      <th>4</th>\n",
       "      <td>5</td>\n",
       "      <td>0.131282</td>\n",
       "    </tr>\n",
       "  </tbody>\n",
       "</table>\n",
       "</div>"
      ],
      "text/plain": [
       "   Time     Value\n",
       "0     1  0.000000\n",
       "1     2 -0.090263\n",
       "2     3  0.749995\n",
       "3     4  1.247887\n",
       "4     5  0.131282"
      ]
     },
     "execution_count": 3,
     "metadata": {},
     "output_type": "execute_result"
    }
   ],
   "source": [
    "# reading excel file and storing it in a dataframe\n",
    "df = pd.read_excel('/Users/janhavi/Downloads/Series_1.xlsx')\n",
    "df.head()"
   ]
  },
  {
   "cell_type": "code",
   "execution_count": 4,
   "id": "38024c43",
   "metadata": {},
   "outputs": [
    {
     "data": {
      "text/plain": [
       "[<matplotlib.lines.Line2D at 0x7f7f7bc25700>]"
      ]
     },
     "execution_count": 4,
     "metadata": {},
     "output_type": "execute_result"
    },
    {
     "data": {
      "image/png": "[encoded data removed]",
      "text/plain": [
       "<Figure size 432x288 with 1 Axes>"
      ]
     },
     "metadata": {
      "needs_background": "light"
     },
     "output_type": "display_data"
    }
   ],
   "source": [
    "plt.plot(df['Value'])"
   ]
  },
  {
   "cell_type": "code",
   "execution_count": 6,
   "id": "4168e2fc",
   "metadata": {},
   "outputs": [
    {
     "data": {
      "text/plain": [
       "(-22.18493022734871,\n",
       " 0.0,\n",
       " 0,\n",
       " 9999,\n",
       " {'1%': -3.4310041633725734,\n",
       "  '5%': -2.861829101294412,\n",
       "  '10%': -2.566923883481157},\n",
       " 28167.381318321917)"
      ]
     },
     "execution_count": 6,
     "metadata": {},
     "output_type": "execute_result"
    }
   ],
   "source": [
    "X = df[\"Value\"].values\n",
    "result = adfuller(X)\n",
    "result"
   ]
  },
  {
   "cell_type": "markdown",
   "id": "56c2a05b",
   "metadata": {},
   "source": [
    "# Explaination"
   ]
  },
  {
   "cell_type": "markdown",
   "id": "9decc7d3",
   "metadata": {},
   "source": [
    "First data point: -22.18493022734871: Critical value of the data in your case\n",
    "\n",
    "Second data point: 0.0: Probability that null hypothesis will not be rejected (p-value)\n",
    "\n",
    "Third data point: 0: Number of lags used in regression to determine t-statistic. So there are no auto correlations going back to '0' periods here.\n",
    "\n",
    "Forth data point: 9999: Number of observations used in the analysis.\n",
    "\n",
    "Fifth data point: {'10%': -2.566923883481157, '1%': -3.4310041633725734, '5%': -2.861829101294412}: T values corresponding to adfuller test.\n",
    "\n",
    "Since critical value -22.18<-3.4,-2.8,-2.5 (t-values at 1%,5%and 10% confidence intervals) \n",
    "null hypothesis is rejected and hence the time series is stationarity"
   ]
  },
  {
   "cell_type": "code",
   "execution_count": 8,
   "id": "46767e11",
   "metadata": {},
   "outputs": [
    {
     "name": "stdout",
     "output_type": "stream",
     "text": [
      "ADF Statistic: -22.184930\n",
      "p-value: 0.000000\n",
      "Critical Values:\n",
      "\t1%: -3.431\n",
      "\t5%: -2.862\n",
      "\t10%: -2.567\n",
      "Reject Hypothesis - Time Series is Stationary\n"
     ]
    }
   ],
   "source": [
    "print('ADF Statistic: %f' % result[0])\n",
    "print('p-value: %f' % result[1])\n",
    "print('Critical Values:')\n",
    "for key, value in result[4].items():\n",
    "    print('\\t%s: %.3f' % (key, value))\n",
    "\n",
    "if result[0] < result[4][\"5%\"]:\n",
    "    print (\"Reject Hypothesis - Time Series is Stationary\")\n",
    "else:\n",
    "    print (\"Failed to Reject Hypothesis - Time Series is Non-Stationary\")"
   ]
  },
  {
   "cell_type": "markdown",
   "id": "0be963d2",
   "metadata": {},
   "source": [
    "# Via code"
   ]
  },
  {
   "cell_type": "code",
   "execution_count": 14,
   "id": "88c37326",
   "metadata": {},
   "outputs": [],
   "source": [
    "# store values in diff_values\n",
    "df[\"Diff_Value\"] = df[\"Value\"].diff()\n",
    "diff_values = df[\"Diff_Value\"].values\n",
    "\n",
    "# remove NAN values\n",
    "Y = diff_values[~np.isnan(diff_values)]"
   ]
  },
  {
   "cell_type": "code",
   "execution_count": 15,
   "id": "b7e18560",
   "metadata": {},
   "outputs": [],
   "source": [
    "# drop the last value\n",
    "ts_values_orig = df[\"Value\"].values\n",
    "ts_values = ts_values_orig[:-1]"
   ]
  },
  {
   "cell_type": "code",
   "execution_count": 16,
   "id": "fafd5c81",
   "metadata": {},
   "outputs": [],
   "source": [
    "X = sm.add_constant(ts_values)"
   ]
  },
  {
   "cell_type": "code",
   "execution_count": 12,
   "id": "655e1586",
   "metadata": {},
   "outputs": [],
   "source": [
    "model = sm.OLS(Y,X)\n",
    "results = model.fit()"
   ]
  },
  {
   "cell_type": "code",
   "execution_count": 13,
   "id": "2e289157",
   "metadata": {},
   "outputs": [
    {
     "name": "stdout",
     "output_type": "stream",
     "text": [
      "                            OLS Regression Results                            \n",
      "==============================================================================\n",
      "Dep. Variable:                      y   R-squared:                       0.047\n",
      "Model:                            OLS   Adj. R-squared:                  0.047\n",
      "Method:                 Least Squares   F-statistic:                     492.2\n",
      "Date:                Sat, 06 Nov 2021   Prob (F-statistic):          1.74e-106\n",
      "Time:                        10:38:23   Log-Likelihood:                -14130.\n",
      "No. Observations:                9999   AIC:                         2.826e+04\n",
      "Df Residuals:                    9997   BIC:                         2.828e+04\n",
      "Df Model:                           1                                         \n",
      "Covariance Type:            nonrobust                                         \n",
      "==============================================================================\n",
      "                 coef    std err          t      P>|t|      [0.025      0.975]\n",
      "------------------------------------------------------------------------------\n",
      "const          0.0659      0.010      6.347      0.000       0.046       0.086\n",
      "x1            -0.0939      0.004    -22.185      0.000      -0.102      -0.086\n",
      "==============================================================================\n",
      "Omnibus:                        0.340   Durbin-Watson:                   2.013\n",
      "Prob(Omnibus):                  0.844   Jarque-Bera (JB):                0.334\n",
      "Skew:                          -0.014   Prob(JB):                        0.846\n",
      "Kurtosis:                       3.003   Cond. No.                         2.60\n",
      "==============================================================================\n",
      "\n",
      "Notes:\n",
      "[1] Standard Errors assume that the covariance matrix of the errors is correctly specified.\n"
     ]
    }
   ],
   "source": [
    "print(results.summary())"
   ]
  },
  {
   "cell_type": "code",
   "execution_count": 17,
   "id": "8c6354e5",
   "metadata": {},
   "outputs": [
    {
     "data": {
      "text/plain": [
       "-22.184930227348705"
      ]
     },
     "execution_count": 17,
     "metadata": {},
     "output_type": "execute_result"
    }
   ],
   "source": [
    "results.tvalues[1]"
   ]
  },
  {
   "cell_type": "markdown",
   "id": "972f193c",
   "metadata": {},
   "source": [
    "We get the same result as before"
   ]
  }
 ],
 "metadata": {
  "kernelspec": {
   "display_name": "Python 3",
   "language": "python",
   "name": "python3"
  },
  "language_info": {
   "codemirror_mode": {
    "name": "ipython",
    "version": 3
   },
   "file_extension": ".py",
   "mimetype": "text/x-python",
   "name": "python",
   "nbconvert_exporter": "python",
   "pygments_lexer": "ipython3",
   "version": "3.8.8"
  }
 },
 "nbformat": 4,
 "nbformat_minor": 5
}
